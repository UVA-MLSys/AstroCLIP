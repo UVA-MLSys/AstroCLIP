{
 "cells": [
  {
   "cell_type": "code",
   "execution_count": null,
   "metadata": {},
   "outputs": [],
   "source": [
    "import os, sys\n",
    "import numpy as np\n",
    "import torch\n",
    "from astropy.table import Table\n",
    "from sklearn.preprocessing import StandardScaler\n",
    "from sklearn.metrics import r2_score\n",
    "\n",
    "sys.path.append(\"../..\")\n",
    "\n",
    "from astroclip.env import format_with_env\n",
    "from property_utils.models import few_shot, zero_shot\n",
    "from property_utils.plotting import plot_scatter"
   ]
  },
  {
   "cell_type": "code",
   "execution_count": null,
   "metadata": {},
   "outputs": [],
   "source": [
    "ASTROCLIP_ROOT = format_with_env(\"{ASTROCLIP_ROOT}\")\n",
    "\n",
    "PROVABGS_ROOT = f\"{ASTROCLIP_ROOT}/datasets/provabgs/\"\n",
    "SUPERVISED_ROOT = f\"{ASTROCLIP_ROOT}/supervised/\"\n",
    "\n",
    "# Define models in embeddings\n",
    "image_models = [\"astroclip_image\", \"astrodino\", \"stein\"]\n",
    "spectrum_models = [\"astroclip_spectrum\", \"specformer\"]\n",
    "\n",
    "# Set up the paths\n",
    "train_path = os.path.join(PROVABGS_ROOT, \"provabgs_paired_train_embeddings.hdf5\")\n",
    "test_path = os.path.join(PROVABGS_ROOT, \"provabgs_paired_test_embeddings.hdf5\")\n",
    "\n",
    "# Get embeddings and PROVABGS table\n",
    "train_provabgs = Table.read(train_path)\n",
    "test_provabgs = Table.read(test_path)"
   ]
  },
  {
   "cell_type": "code",
   "execution_count": 3,
   "metadata": {},
   "outputs": [
    {
     "name": "stdout",
     "output_type": "stream",
     "text": [
      "Size of training set: 2681 \n",
      "Size of test set: 2844\n"
     ]
    }
   ],
   "source": [
    "# Get properties and scale\n",
    "properties = [\"Z_MW\", \"LOG_MSTAR\", \"TAGE_MW\", \"sSFR\"]\n",
    "y_train = np.stack([train_provabgs[prop].data.squeeze() for prop in properties]).T\n",
    "y_test = np.stack([test_provabgs[prop].data.squeeze() for prop in properties]).T\n",
    "scaler = {\"mean\": y_train.mean(axis=0), \"std\": y_train.std(axis=0)}\n",
    "y_train = (y_train - scaler[\"mean\"]) / scaler[\"std\"]\n",
    "\n",
    "print(\n",
    "    \"Size of training set:\",\n",
    "    len(train_provabgs),\n",
    "    \"\\nSize of test set:\",\n",
    "    len(test_provabgs),\n",
    ")"
   ]
  },
  {
   "cell_type": "markdown",
   "metadata": {},
   "source": [
    "# Galaxy Property Prediction from Image Embeddings"
   ]
  },
  {
   "cell_type": "code",
   "execution_count": 4,
   "metadata": {},
   "outputs": [],
   "source": [
    "# Get data\n",
    "data = {}\n",
    "for model in image_models:\n",
    "    data[model] = {}\n",
    "    X_train, X_test = (\n",
    "        train_provabgs[model + \"_embeddings\"],\n",
    "        test_provabgs[model + \"_embeddings\"],\n",
    "    )\n",
    "    embedding_scaler = StandardScaler().fit(X_train)\n",
    "    data[model][\"train\"] = embedding_scaler.transform(X_train)\n",
    "    data[model][\"test\"] = embedding_scaler.transform(X_test)"
   ]
  },
  {
   "cell_type": "code",
   "execution_count": 5,
   "metadata": {},
   "outputs": [
    {
     "name": "stdout",
     "output_type": "stream",
     "text": [
      "Evaluating astroclip_image model...\n"
     ]
    },
    {
     "name": "stderr",
     "output_type": "stream",
     "text": [
      "c:\\Users\\mi3se\\AppData\\Local\\Programs\\Python\\Python310\\lib\\site-packages\\joblib\\externals\\loky\\backend\\context.py:136: UserWarning: Could not find the number of physical cores for the following reason:\n",
      "[WinError 2] The system cannot find the file specified\n",
      "Returning the number of logical cores instead. You can silence this warning by setting LOKY_MAX_CPU_COUNT to the number of cores you want to use.\n",
      "  warnings.warn(\n",
      "  File \"c:\\Users\\mi3se\\AppData\\Local\\Programs\\Python\\Python310\\lib\\site-packages\\joblib\\externals\\loky\\backend\\context.py\", line 257, in _count_physical_cores\n",
      "    cpu_info = subprocess.run(\n",
      "  File \"c:\\Users\\mi3se\\AppData\\Local\\Programs\\Python\\Python310\\lib\\subprocess.py\", line 503, in run\n",
      "    with Popen(*popenargs, **kwargs) as process:\n",
      "  File \"c:\\Users\\mi3se\\AppData\\Local\\Programs\\Python\\Python310\\lib\\subprocess.py\", line 971, in __init__\n",
      "    self._execute_child(args, executable, preexec_fn, close_fds,\n",
      "  File \"c:\\Users\\mi3se\\AppData\\Local\\Programs\\Python\\Python310\\lib\\subprocess.py\", line 1456, in _execute_child\n",
      "    hp, ht, pid, tid = _winapi.CreateProcess(executable, args,\n"
     ]
    },
    {
     "name": "stdout",
     "output_type": "stream",
     "text": [
      "Evaluating astrodino model...\n",
      "Evaluating stein model...\n"
     ]
    }
   ],
   "source": [
    "# Perfrom knn and mlp\n",
    "preds_knn, preds_mlp = {}, {}\n",
    "for key in data.keys():\n",
    "    print(f\"Evaluating {key} model...\")\n",
    "    raw_preds_knn = zero_shot(data[key][\"train\"], y_train, data[key][\"test\"])\n",
    "    raw_preds_mlp = few_shot(\n",
    "        model, data[key][\"train\"], y_train, data[key][\"test\"]\n",
    "    ).squeeze()\n",
    "    preds_knn[key] = raw_preds_knn * scaler[\"std\"] + scaler[\"mean\"]\n",
    "    preds_mlp[key] = raw_preds_mlp * scaler[\"std\"] + scaler[\"mean\"]"
   ]
  },
  {
   "cell_type": "code",
   "execution_count": 6,
   "metadata": {},
   "outputs": [],
   "source": [
    "# Make a table of r^2 scores\n",
    "knn_r2 = {key: [] for key in preds_knn.keys()}\n",
    "mlp_r2 = {key: [] for key in preds_mlp.keys()}\n",
    "\n",
    "for key in preds_knn.keys():\n",
    "    for i, prop in enumerate(properties):\n",
    "        knn_r2[key].append(r2_score(y_test[:, i], preds_knn[key][:, i]))\n",
    "        mlp_r2[key].append(r2_score(y_test[:, i], preds_mlp[key][:, i]))\n",
    "\n",
    "knn_r2[\"properties\"] = properties\n",
    "mlp_r2[\"properties\"] = properties"
   ]
  },
  {
   "cell_type": "code",
   "execution_count": 7,
   "metadata": {},
   "outputs": [
    {
     "data": {
      "text/html": [
       "<div><i>Table length=4</i>\n",
       "<table id=\"table2186747640368\" class=\"table-striped table-bordered table-condensed\">\n",
       "<thead><tr><th>astroclip_image</th><th>astrodino</th><th>stein</th><th>properties</th></tr></thead>\n",
       "<thead><tr><th>float64</th><th>float64</th><th>float64</th><th>str9</th></tr></thead>\n",
       "<tr><td>0.3752610710926899</td><td>0.4323129721799389</td><td>0.0643307244044502</td><td>Z_MW</td></tr>\n",
       "<tr><td>0.5787679086623845</td><td>0.5653011500672032</td><td>0.20094485786897875</td><td>LOG_MSTAR</td></tr>\n",
       "<tr><td>0.05432639679315665</td><td>0.01720296972650126</td><td>-0.4291024729717663</td><td>TAGE_MW</td></tr>\n",
       "<tr><td>0.33590110298400555</td><td>0.19924071133346632</td><td>0.04340070904471194</td><td>sSFR</td></tr>\n",
       "</table></div>"
      ],
      "text/plain": [
       "<Table length=4>\n",
       "  astroclip_image        astrodino             stein        properties\n",
       "      float64             float64             float64          str9   \n",
       "------------------- ------------------- ------------------- ----------\n",
       " 0.3752610710926899  0.4323129721799389  0.0643307244044502       Z_MW\n",
       " 0.5787679086623845  0.5653011500672032 0.20094485786897875  LOG_MSTAR\n",
       "0.05432639679315665 0.01720296972650126 -0.4291024729717663    TAGE_MW\n",
       "0.33590110298400555 0.19924071133346632 0.04340070904471194       sSFR"
      ]
     },
     "execution_count": 7,
     "metadata": {},
     "output_type": "execute_result"
    }
   ],
   "source": [
    "Table(knn_r2)"
   ]
  },
  {
   "cell_type": "code",
   "execution_count": 8,
   "metadata": {},
   "outputs": [
    {
     "data": {
      "text/html": [
       "<div><i>Table length=4</i>\n",
       "<table id=\"table2186747639360\" class=\"table-striped table-bordered table-condensed\">\n",
       "<thead><tr><th>astroclip_image</th><th>astrodino</th><th>stein</th><th>properties</th></tr></thead>\n",
       "<thead><tr><th>float64</th><th>float64</th><th>float64</th><th>str9</th></tr></thead>\n",
       "<tr><td>0.5089998641786604</td><td>0.528509397700264</td><td>0.36257734871590563</td><td>Z_MW</td></tr>\n",
       "<tr><td>0.6834140206349506</td><td>0.6474121219931318</td><td>0.3748410892599463</td><td>LOG_MSTAR</td></tr>\n",
       "<tr><td>-0.09172189294752098</td><td>-0.026851237445549625</td><td>-0.2902687793995258</td><td>TAGE_MW</td></tr>\n",
       "<tr><td>0.38823184121956467</td><td>0.28694854933639746</td><td>0.11682379999416581</td><td>sSFR</td></tr>\n",
       "</table></div>"
      ],
      "text/plain": [
       "<Table length=4>\n",
       "  astroclip_image          astrodino              stein        properties\n",
       "      float64               float64              float64          str9   \n",
       "-------------------- --------------------- ------------------- ----------\n",
       "  0.5089998641786604     0.528509397700264 0.36257734871590563       Z_MW\n",
       "  0.6834140206349506    0.6474121219931318  0.3748410892599463  LOG_MSTAR\n",
       "-0.09172189294752098 -0.026851237445549625 -0.2902687793995258    TAGE_MW\n",
       " 0.38823184121956467   0.28694854933639746 0.11682379999416581       sSFR"
      ]
     },
     "execution_count": 8,
     "metadata": {},
     "output_type": "execute_result"
    }
   ],
   "source": [
    "Table(mlp_r2)"
   ]
  },
  {
   "cell_type": "code",
   "execution_count": null,
   "metadata": {},
   "outputs": [],
   "source": [
    "# Get predictions from supervised models\n",
    "resnet_preds = torch.load(\n",
    "    os.path.join(SUPERVISED_ROOT, \"image/ResNet18/global_properties/test_pred.pt\")\n",
    ")\n",
    "photometry_preds = torch.load(\n",
    "    os.path.join(SUPERVISED_ROOT, \"photometry/MLP/global_properties/test_pred.pt\")\n",
    ")\n",
    "\n",
    "# Add predictions to dictionary\n",
    "preds_supervised = {\n",
    "    \"resnet18\": np.stack([resnet_preds[prop].squeeze() for prop in properties]).T,\n",
    "    \"photometry\": np.stack([photometry_preds[prop].squeeze() for prop in properties]).T,\n",
    "}\n",
    "\n",
    "supervised_r2 = {key: [] for key in preds_supervised.keys()}\n",
    "for key in preds_supervised.keys():\n",
    "    for i, prop in enumerate(properties):\n",
    "        supervised_r2[key].append(r2_score(y_test[:, i], preds_supervised[key][:, i]))\n",
    "\n",
    "supervised_r2[\"properties\"] = properties\n",
    "Table(supervised_r2)"
   ]
  },
  {
   "cell_type": "markdown",
   "metadata": {},
   "source": [
    "# Galaxy Property Prediction from Spectrum Embeddings"
   ]
  },
  {
   "cell_type": "code",
   "execution_count": 10,
   "metadata": {},
   "outputs": [],
   "source": [
    "# Get data\n",
    "data = {}\n",
    "for model in spectrum_models:\n",
    "    data[model] = {}\n",
    "    X_train, X_test = (\n",
    "        train_provabgs[model + \"_embeddings\"],\n",
    "        test_provabgs[model + \"_embeddings\"],\n",
    "    )\n",
    "    embedding_scaler = StandardScaler().fit(X_train)\n",
    "    data[model][\"train\"] = embedding_scaler.transform(X_train)\n",
    "    data[model][\"test\"] = embedding_scaler.transform(X_test)"
   ]
  },
  {
   "cell_type": "code",
   "execution_count": 11,
   "metadata": {},
   "outputs": [
    {
     "name": "stdout",
     "output_type": "stream",
     "text": [
      "Evaluating astroclip_spectrum model...\n",
      "Evaluating specformer model...\n"
     ]
    }
   ],
   "source": [
    "# Perfrom knn and mlp\n",
    "preds_knn, preds_mlp = {}, {}\n",
    "for key in data.keys():\n",
    "    print(f\"Evaluating {key} model...\")\n",
    "    raw_preds_knn = zero_shot(data[key][\"train\"], y_train, data[key][\"test\"])\n",
    "    raw_preds_mlp = few_shot(\n",
    "        model, data[key][\"train\"], y_train, data[key][\"test\"]\n",
    "    ).squeeze()\n",
    "    preds_knn[key] = raw_preds_knn * scaler[\"std\"] + scaler[\"mean\"]\n",
    "    preds_mlp[key] = raw_preds_mlp * scaler[\"std\"] + scaler[\"mean\"]"
   ]
  },
  {
   "cell_type": "code",
   "execution_count": 12,
   "metadata": {},
   "outputs": [],
   "source": [
    "# Make a table of r^2 scores\n",
    "knn_r2 = {key: [] for key in preds_knn.keys()}\n",
    "mlp_r2 = {key: [] for key in preds_mlp.keys()}\n",
    "\n",
    "for key in preds_knn.keys():\n",
    "    for i, prop in enumerate(properties):\n",
    "        knn_r2[key].append(r2_score(y_test[:, i], preds_knn[key][:, i]))\n",
    "        mlp_r2[key].append(r2_score(y_test[:, i], preds_mlp[key][:, i]))\n",
    "\n",
    "knn_r2[\"properties\"] = properties\n",
    "mlp_r2[\"properties\"] = properties"
   ]
  },
  {
   "cell_type": "code",
   "execution_count": 13,
   "metadata": {},
   "outputs": [
    {
     "data": {
      "text/html": [
       "<div><i>Table length=4</i>\n",
       "<table id=\"table2188884014896\" class=\"table-striped table-bordered table-condensed\">\n",
       "<thead><tr><th>astroclip_spectrum</th><th>specformer</th><th>properties</th></tr></thead>\n",
       "<thead><tr><th>float64</th><th>float64</th><th>str9</th></tr></thead>\n",
       "<tr><td>0.5322482871068985</td><td>0.5354494451710723</td><td>Z_MW</td></tr>\n",
       "<tr><td>0.7542939659438246</td><td>0.6640968009283513</td><td>LOG_MSTAR</td></tr>\n",
       "<tr><td>0.11507305088976916</td><td>0.09463665288932044</td><td>TAGE_MW</td></tr>\n",
       "<tr><td>0.4484141179718265</td><td>0.4165222339685064</td><td>sSFR</td></tr>\n",
       "</table></div>"
      ],
      "text/plain": [
       "<Table length=4>\n",
       " astroclip_spectrum      specformer     properties\n",
       "      float64             float64          str9   \n",
       "------------------- ------------------- ----------\n",
       " 0.5322482871068985  0.5354494451710723       Z_MW\n",
       " 0.7542939659438246  0.6640968009283513  LOG_MSTAR\n",
       "0.11507305088976916 0.09463665288932044    TAGE_MW\n",
       " 0.4484141179718265  0.4165222339685064       sSFR"
      ]
     },
     "execution_count": 13,
     "metadata": {},
     "output_type": "execute_result"
    }
   ],
   "source": [
    "Table(knn_r2)"
   ]
  },
  {
   "cell_type": "code",
   "execution_count": 14,
   "metadata": {},
   "outputs": [
    {
     "data": {
      "text/html": [
       "<div><i>Table length=4</i>\n",
       "<table id=\"table2188884015136\" class=\"table-striped table-bordered table-condensed\">\n",
       "<thead><tr><th>astroclip_spectrum</th><th>specformer</th><th>properties</th></tr></thead>\n",
       "<thead><tr><th>float64</th><th>float64</th><th>str9</th></tr></thead>\n",
       "<tr><td>0.5387492629791656</td><td>0.5950981039949153</td><td>Z_MW</td></tr>\n",
       "<tr><td>0.7518805289789331</td><td>0.7804331705869244</td><td>LOG_MSTAR</td></tr>\n",
       "<tr><td>0.08186078073677672</td><td>-0.02941308850884461</td><td>TAGE_MW</td></tr>\n",
       "<tr><td>0.4882757212292408</td><td>0.5451530083966152</td><td>sSFR</td></tr>\n",
       "</table></div>"
      ],
      "text/plain": [
       "<Table length=4>\n",
       " astroclip_spectrum      specformer      properties\n",
       "      float64             float64           str9   \n",
       "------------------- -------------------- ----------\n",
       " 0.5387492629791656   0.5950981039949153       Z_MW\n",
       " 0.7518805289789331   0.7804331705869244  LOG_MSTAR\n",
       "0.08186078073677672 -0.02941308850884461    TAGE_MW\n",
       " 0.4882757212292408   0.5451530083966152       sSFR"
      ]
     },
     "execution_count": 14,
     "metadata": {},
     "output_type": "execute_result"
    }
   ],
   "source": [
    "Table(mlp_r2)"
   ]
  },
  {
   "cell_type": "code",
   "execution_count": null,
   "metadata": {},
   "outputs": [],
   "source": [
    "# Get predictions from supervised models\n",
    "spectrum_preds = torch.load(\n",
    "    os.path.join(SUPERVISED_ROOT, \"spectrum/Conv+Att/global_properties/test_pred.pt\")\n",
    ")\n",
    "\n",
    "# Add predictions to dictionary\n",
    "preds_supervised = {\n",
    "    \"conv+att\": np.stack([spectrum_preds[prop].squeeze() for prop in properties]).T,\n",
    "}\n",
    "\n",
    "supervised_r2 = {key: [] for key in preds_supervised.keys()}\n",
    "for key in preds_supervised.keys():\n",
    "    for i, prop in enumerate(properties):\n",
    "        supervised_r2[key].append(r2_score(y_test[:, i], preds_supervised[key][:, i]))\n",
    "\n",
    "supervised_r2[\"properties\"] = properties\n",
    "Table(supervised_r2)"
   ]
  }
 ],
 "metadata": {
  "kernelspec": {
   "display_name": "Python 3",
   "language": "python",
   "name": "python3"
  },
  "language_info": {
   "codemirror_mode": {
    "name": "ipython",
    "version": 3
   },
   "file_extension": ".py",
   "mimetype": "text/x-python",
   "name": "python",
   "nbconvert_exporter": "python",
   "pygments_lexer": "ipython3",
   "version": "3.10.11"
  }
 },
 "nbformat": 4,
 "nbformat_minor": 2
}

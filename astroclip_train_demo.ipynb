{
 "cells": [
  {
   "cell_type": "code",
   "execution_count": 1,
   "metadata": {},
   "outputs": [
    {
     "name": "stderr",
     "output_type": "stream",
     "text": [
      "A matching Triton is not available, some optimizations will not be enabled\n",
      "Traceback (most recent call last):\n",
      "  File \"c:\\Users\\mi3se\\AppData\\Local\\Programs\\Python\\Python310\\lib\\site-packages\\xformers\\__init__.py\", line 57, in _is_triton_available\n",
      "    import triton  # noqa\n",
      "ModuleNotFoundError: No module named 'triton'\n",
      "c:\\Users\\mi3se\\AppData\\Local\\Programs\\Python\\Python310\\lib\\site-packages\\dinov2\\layers\\swiglu_ffn.py:43: UserWarning: xFormers is available (SwiGLU)\n",
      "  warnings.warn(\"xFormers is available (SwiGLU)\")\n",
      "c:\\Users\\mi3se\\AppData\\Local\\Programs\\Python\\Python310\\lib\\site-packages\\dinov2\\layers\\attention.py:27: UserWarning: xFormers is available (Attention)\n",
      "  warnings.warn(\"xFormers is available (Attention)\")\n",
      "c:\\Users\\mi3se\\AppData\\Local\\Programs\\Python\\Python310\\lib\\site-packages\\dinov2\\layers\\block.py:33: UserWarning: xFormers is available (Block)\n",
      "  warnings.warn(\"xFormers is available (Block)\")\n"
     ]
    }
   ],
   "source": [
    "from typing import Any, Optional\n",
    "\n",
    "import matplotlib.pyplot as plt\n",
    "import wandb, torch\n",
    "from lightning import Callback, LightningModule, Trainer\n",
    "from lightning.pytorch.cli import (\n",
    "    ArgsType,\n",
    "    LightningArgumentParser,\n",
    "    LightningCLI,\n",
    "    LRSchedulerTypeUnion,\n",
    ")\n",
    "from lightning.pytorch.loggers import WandbLogger\n",
    "from torch.optim import Optimizer\n",
    "\n",
    "from astroclip import format_with_env\n",
    "from astroclip.callbacks import CustomSaveConfigCallback"
   ]
  },
  {
   "cell_type": "code",
   "execution_count": 2,
   "metadata": {},
   "outputs": [],
   "source": [
    "from astroclip.models.astroclip import AstroClipModel, ImageHead, SpectrumHead"
   ]
  },
  {
   "cell_type": "code",
   "execution_count": 3,
   "metadata": {},
   "outputs": [],
   "source": [
    "image_encoder = ImageHead(\n",
    "    config=\"astroclip/astrodino/config.yaml\", \n",
    "    model_weights=\"pretrained/astrodino.ckpt\", \n",
    "    save_directory=\"outputs/astrodino\"\n",
    ")\n",
    "spectrum_encoder = SpectrumHead(\n",
    "    model_path=\"pretrained/specformer.ckpt\"\n",
    ")\n",
    "model = AstroClipModel(\n",
    "    image_encoder=image_encoder, \n",
    "    spectrum_encoder=spectrum_encoder\n",
    ")"
   ]
  },
  {
   "cell_type": "code",
   "execution_count": 4,
   "metadata": {},
   "outputs": [],
   "source": [
    "from astroclip.data.datamodule import AstroClipDataloader, AstroClipCollator"
   ]
  },
  {
   "cell_type": "code",
   "execution_count": 5,
   "metadata": {},
   "outputs": [],
   "source": [
    "data_loader = AstroClipDataloader(\n",
    "    path=\"mhsotoudeh/astroclip-mini\",\n",
    "    columns=[\"image\", \"spectrum\"],\n",
    "    batch_size=32,\n",
    "    num_workers=0,\n",
    "    collate_fn=AstroClipCollator()\n",
    ")\n",
    "\n",
    "data_loader.setup(\"fit\")"
   ]
  },
  {
   "cell_type": "code",
   "execution_count": 6,
   "metadata": {},
   "outputs": [],
   "source": [
    "train = data_loader.train_dataloader()\n",
    "val = data_loader.val_dataloader()"
   ]
  },
  {
   "cell_type": "code",
   "execution_count": 7,
   "metadata": {},
   "outputs": [],
   "source": [
    "item = next(iter(train))\n",
    "\n",
    "for k, v in item.items():\n",
    "    print(k, v.shape)"
   ]
  },
  {
   "cell_type": "code",
   "execution_count": 8,
   "metadata": {},
   "outputs": [
    {
     "name": "stderr",
     "output_type": "stream",
     "text": [
      "Using 16bit Automatic Mixed Precision (AMP)\n",
      "GPU available: True (cuda), used: True\n",
      "TPU available: False, using: 0 TPU cores\n",
      "HPU available: False, using: 0 HPUs\n"
     ]
    }
   ],
   "source": [
    "from lightning.pytorch.callbacks import LearningRateMonitor, ModelCheckpoint, \n",
    "from astroclip.callbacks import CustomWandbLogger\n",
    "\n",
    "trainer = Trainer(\n",
    "    default_root_dir=\"outputs\",\n",
    "    enable_checkpointing=True,\n",
    "    gradient_clip_val=1.,\n",
    "    max_epochs=10,\n",
    "    precision=16,\n",
    "    callbacks=[\n",
    "        ModelCheckpoint(\n",
    "            save_last=True, save_top_k=2, \n",
    "            every_n_epochs=1, monitor=\"val_loss_nologit\"\n",
    "        ), \n",
    "        LearningRateMonitor(logging_interval=\"step\")\n",
    "    ],\n",
    "    logger=CustomWandbLogger(\n",
    "        project=\"astroclip-alignment\", save_dir=\"outputs\"\n",
    "    ),\n",
    "    enable_progress_bar=True\n",
    ")"
   ]
  },
  {
   "cell_type": "code",
   "execution_count": 9,
   "metadata": {},
   "outputs": [
    {
     "name": "stderr",
     "output_type": "stream",
     "text": [
      "You are using a CUDA device ('NVIDIA GeForce RTX 3060 Laptop GPU') that has Tensor Cores. To properly utilize them, you should set `torch.set_float32_matmul_precision('medium' | 'high')` which will trade-off precision for performance. For more details, read https://pytorch.org/docs/stable/generated/torch.set_float32_matmul_precision.html#torch.set_float32_matmul_precision\n",
      "wandb: Currently logged in as: khairulislamtanim (khairulislamtanim-university-of-virginia). Use `wandb login --relogin` to force relogin\n",
      "wandb: Using wandb-core as the SDK backend.  Please refer to https://wandb.me/wandb-core for more information.\n"
     ]
    },
    {
     "data": {
      "text/html": [
       "Tracking run with wandb version 0.19.4"
      ],
      "text/plain": [
       "<IPython.core.display.HTML object>"
      ]
     },
     "metadata": {},
     "output_type": "display_data"
    },
    {
     "data": {
      "text/html": [
       "Run data is saved locally in <code>outputs\\wandb\\run-20250129_224349-es7kn80h</code>"
      ],
      "text/plain": [
       "<IPython.core.display.HTML object>"
      ]
     },
     "metadata": {},
     "output_type": "display_data"
    },
    {
     "data": {
      "text/html": [
       "Syncing run <strong><a href='https://wandb.ai/khairulislamtanim-university-of-virginia/astroclip-alignment/runs/es7kn80h' target=\"_blank\">peachy-serenity-8</a></strong> to <a href='https://wandb.ai/khairulislamtanim-university-of-virginia/astroclip-alignment' target=\"_blank\">Weights & Biases</a> (<a href='https://wandb.me/developer-guide' target=\"_blank\">docs</a>)<br>"
      ],
      "text/plain": [
       "<IPython.core.display.HTML object>"
      ]
     },
     "metadata": {},
     "output_type": "display_data"
    },
    {
     "data": {
      "text/html": [
       " View project at <a href='https://wandb.ai/khairulislamtanim-university-of-virginia/astroclip-alignment' target=\"_blank\">https://wandb.ai/khairulislamtanim-university-of-virginia/astroclip-alignment</a>"
      ],
      "text/plain": [
       "<IPython.core.display.HTML object>"
      ]
     },
     "metadata": {},
     "output_type": "display_data"
    },
    {
     "data": {
      "text/html": [
       " View run at <a href='https://wandb.ai/khairulislamtanim-university-of-virginia/astroclip-alignment/runs/es7kn80h' target=\"_blank\">https://wandb.ai/khairulislamtanim-university-of-virginia/astroclip-alignment/runs/es7kn80h</a>"
      ],
      "text/plain": [
       "<IPython.core.display.HTML object>"
      ]
     },
     "metadata": {},
     "output_type": "display_data"
    },
    {
     "name": "stderr",
     "output_type": "stream",
     "text": [
      "LOCAL_RANK: 0 - CUDA_VISIBLE_DEVICES: [0]\n",
      "\n",
      "  | Name             | Type         | Params | Mode \n",
      "----------------------------------------------------------\n",
      "0 | image_encoder    | ImageHead    | 315 M  | train\n",
      "1 | spectrum_encoder | SpectrumHead | 55.2 M | train\n",
      "2 | criterion        | CLIPLoss     | 0      | train\n",
      "----------------------------------------------------------\n",
      "24.7 M    Trainable params\n",
      "346 M     Non-trainable params\n",
      "370 M     Total params\n",
      "1,483.193 Total estimated model params size (MB)\n",
      "102       Modules in train mode\n",
      "422       Modules in eval mode\n"
     ]
    },
    {
     "data": {
      "application/vnd.jupyter.widget-view+json": {
       "model_id": "f0b793e5bce64fabba84c278b189b002",
       "version_major": 2,
       "version_minor": 0
      },
      "text/plain": [
       "Sanity Checking: |          | 0/? [00:00<?, ?it/s]"
      ]
     },
     "metadata": {},
     "output_type": "display_data"
    },
    {
     "data": {
      "application/vnd.jupyter.widget-view+json": {
       "model_id": "999b4f99dbcc48f9aa3d4b98d54274b6",
       "version_major": 2,
       "version_minor": 0
      },
      "text/plain": [
       "Training: |          | 0/? [00:00<?, ?it/s]"
      ]
     },
     "metadata": {},
     "output_type": "display_data"
    },
    {
     "data": {
      "application/vnd.jupyter.widget-view+json": {
       "model_id": "253a6197589b4203bda146b469cf3cae",
       "version_major": 2,
       "version_minor": 0
      },
      "text/plain": [
       "Validation: |          | 0/? [00:00<?, ?it/s]"
      ]
     },
     "metadata": {},
     "output_type": "display_data"
    },
    {
     "data": {
      "application/vnd.jupyter.widget-view+json": {
       "model_id": "119be94e71a04e7baf8d57ef0917fe6f",
       "version_major": 2,
       "version_minor": 0
      },
      "text/plain": [
       "Validation: |          | 0/? [00:00<?, ?it/s]"
      ]
     },
     "metadata": {},
     "output_type": "display_data"
    },
    {
     "data": {
      "application/vnd.jupyter.widget-view+json": {
       "model_id": "a960b575b62d4abbb91117386e8c42f3",
       "version_major": 2,
       "version_minor": 0
      },
      "text/plain": [
       "Validation: |          | 0/? [00:00<?, ?it/s]"
      ]
     },
     "metadata": {},
     "output_type": "display_data"
    },
    {
     "data": {
      "application/vnd.jupyter.widget-view+json": {
       "model_id": "be68fc02a0804ec98e7af49d7d290870",
       "version_major": 2,
       "version_minor": 0
      },
      "text/plain": [
       "Validation: |          | 0/? [00:00<?, ?it/s]"
      ]
     },
     "metadata": {},
     "output_type": "display_data"
    },
    {
     "data": {
      "application/vnd.jupyter.widget-view+json": {
       "model_id": "4fe59ad50e544a848cc028a178ea65ba",
       "version_major": 2,
       "version_minor": 0
      },
      "text/plain": [
       "Validation: |          | 0/? [00:00<?, ?it/s]"
      ]
     },
     "metadata": {},
     "output_type": "display_data"
    },
    {
     "data": {
      "application/vnd.jupyter.widget-view+json": {
       "model_id": "ec427eb4ecd64abebfc1d1bd8b6a29aa",
       "version_major": 2,
       "version_minor": 0
      },
      "text/plain": [
       "Validation: |          | 0/? [00:00<?, ?it/s]"
      ]
     },
     "metadata": {},
     "output_type": "display_data"
    },
    {
     "data": {
      "application/vnd.jupyter.widget-view+json": {
       "model_id": "e29ee4742b334085b3bc9959017b4714",
       "version_major": 2,
       "version_minor": 0
      },
      "text/plain": [
       "Validation: |          | 0/? [00:00<?, ?it/s]"
      ]
     },
     "metadata": {},
     "output_type": "display_data"
    },
    {
     "data": {
      "application/vnd.jupyter.widget-view+json": {
       "model_id": "4b6c7a074ceb4f46b5a35f9b4e360460",
       "version_major": 2,
       "version_minor": 0
      },
      "text/plain": [
       "Validation: |          | 0/? [00:00<?, ?it/s]"
      ]
     },
     "metadata": {},
     "output_type": "display_data"
    },
    {
     "data": {
      "application/vnd.jupyter.widget-view+json": {
       "model_id": "c60ffa17df1d4fdda17c31115174ad1a",
       "version_major": 2,
       "version_minor": 0
      },
      "text/plain": [
       "Validation: |          | 0/? [00:00<?, ?it/s]"
      ]
     },
     "metadata": {},
     "output_type": "display_data"
    },
    {
     "data": {
      "application/vnd.jupyter.widget-view+json": {
       "model_id": "ee0cb14c0a38477ea5957d4ccb160011",
       "version_major": 2,
       "version_minor": 0
      },
      "text/plain": [
       "Validation: |          | 0/? [00:00<?, ?it/s]"
      ]
     },
     "metadata": {},
     "output_type": "display_data"
    },
    {
     "name": "stderr",
     "output_type": "stream",
     "text": [
      "`Trainer.fit` stopped: `max_epochs=10` reached.\n"
     ]
    }
   ],
   "source": [
    "trainer.fit(\n",
    "    model=model, train_dataloaders=train,\n",
    "    val_dataloaders=val\n",
    ")"
   ]
  },
  {
   "cell_type": "code",
   "execution_count": 13,
   "metadata": {},
   "outputs": [
    {
     "data": {
      "text/plain": [
       "{'train_loss_withlogit': tensor(3.4853),\n",
       " 'train_loss_nologit': tensor(3.4853),\n",
       " 'scale': tensor(2.7408),\n",
       " 'val_loss_nologit': tensor(3.4664),\n",
       " 'val_loss_withlogit': tensor(3.4664)}"
      ]
     },
     "execution_count": 13,
     "metadata": {},
     "output_type": "execute_result"
    }
   ],
   "source": [
    "# Access the logged metrics\n",
    "logged_metrics = trainer.logged_metrics\n",
    "logged_metrics"
   ]
  }
 ],
 "metadata": {
  "kernelspec": {
   "display_name": "Python 3",
   "language": "python",
   "name": "python3"
  },
  "language_info": {
   "codemirror_mode": {
    "name": "ipython",
    "version": 3
   },
   "file_extension": ".py",
   "mimetype": "text/x-python",
   "name": "python",
   "nbconvert_exporter": "python",
   "pygments_lexer": "ipython3",
   "version": "3.10.11"
  }
 },
 "nbformat": 4,
 "nbformat_minor": 2
}
